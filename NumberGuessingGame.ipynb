{
  "nbformat": 4,
  "nbformat_minor": 0,
  "metadata": {
    "colab": {
      "provenance": []
    },
    "kernelspec": {
      "name": "python3",
      "display_name": "Python 3"
    },
    "language_info": {
      "name": "python"
    }
  },
  "cells": [
    {
      "cell_type": "code",
      "source": [
        "print(\"WELCOME TO THE NUMBER GUESSING GAME!\")\n",
        "print(\"I'm thinking of a number between 1 and 100\")\n",
        "print(\"If your guess is more than 10 away from my number, I'll tell you you're COLD\")\n",
        "print(\"If your guess is within 10 of my number, I'll tell you you're WARM\")\n",
        "print(\"If your guess is farther than your most recent guess, I'll say you're getting COLDER\")\n",
        "print(\"If your guess is closer than your most recent guess, I'll say you're getting WARMER\")\n",
        "print(\"LET'S PLAY!\")"
      ],
      "metadata": {
        "id": "7SLOQuzYIqlw"
      },
      "execution_count": null,
      "outputs": []
    },
    {
      "cell_type": "code",
      "source": [
        "# for grabbing a random integer\n",
        "from random import randint\n",
        "\n",
        "# to pick a random integer from 1 to 100 using the random module and assign it to a variable\n",
        "\n",
        "rand_number = randint(1,100)"
      ],
      "metadata": {
        "id": "Ho7kJgohXLK1"
      },
      "execution_count": 6,
      "outputs": []
    },
    {
      "cell_type": "code",
      "source": [
        "# a list to store user guesses\n",
        "user_list = []\n",
        "\n",
        "# while True -- loop forever until conditions are met.\n",
        "while True:\n",
        "  # ask the user for input\n",
        "  user_input = input('\\nPick a number from 1-100 : ')\n",
        "\n",
        "  # check if input is a number\n",
        "  if not user_input.isnumeric() or int(user_input) > 100 or int(user_input) < 1:\n",
        "    print('\\n' + 'Invalid Input, please enter a number.' + '\\n')\n",
        "  else:\n",
        "    # converting string into integer\n",
        "    user_number = int(user_input)\n",
        "\n",
        "    # if user input is incorrect, add user input to the list\n",
        "    user_list.append(user_number)\n",
        "\n",
        "    # check for conditions\n",
        "    if user_number == rand_number:\n",
        "      print('\\n' + f'You guessed the CORRECT number in just {len(user_list)} attemps! Congrats, you won the game!' + '\\n')\n",
        "      break\n",
        "    elif abs(user_number - rand_number) <= 10:\n",
        "      print('\\n' + \"You're getting WARMER!\" + '\\n')\n",
        "    else:\n",
        "      print('\\n' + \"You're getting COLDER!\" + '\\n')\n",
        ""
      ],
      "metadata": {
        "id": "IkEEXt8xLdGc"
      },
      "execution_count": null,
      "outputs": []
    },
    {
      "cell_type": "code",
      "source": [],
      "metadata": {
        "id": "lImZG7DxKCXe"
      },
      "execution_count": null,
      "outputs": []
    },
    {
      "cell_type": "code",
      "source": [],
      "metadata": {
        "id": "ATSweB18Il2A"
      },
      "execution_count": null,
      "outputs": []
    }
  ]
}